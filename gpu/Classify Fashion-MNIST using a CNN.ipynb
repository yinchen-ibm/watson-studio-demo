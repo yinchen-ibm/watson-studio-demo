{
    "nbformat_minor": 1, 
    "cells": [
        {
            "source": "# Classify the Fashion-MNIST data set using a CNN in a GPU powered notebook\n\nThis notebook guides you through the basic steps in constructing a Convolutional Neural Network with the Keras and TensorFlow libraries in IBM Watson Studio, including training the model directly in the notebook using a GPU environment. In the notebook, you will learn how to save the model for future inference, deploy it and score it using the IBM Watson Machine Learning service.\n\nSome familiarity with Python is recommended. This notebook runs on Python 3.6 with Tensorflow 1.12.\n\n## Contents\n\n\n1.\t[Fashion-MNIST data set](#dataset)\n2.\t[Import the data sets](#importdata)\n3.\t[Prepare the data sets](#preparedata)\n4.\t[Define the neural network](#neuralNetwork)\n5.\t[Train the network](#train)\n6.\t[Save and Deploy](#deploy)\n7.\t[Summary](#summary)", 
            "cell_type": "markdown", 
            "metadata": {}
        }, 
        {
            "source": "<a id=\"dataset\"></a>\n<div><img src=\"https://github.com/zalandoresearch/fashion-mnist/raw/master/doc/img/fashion-mnist-sprite.png\", width=450, height=450, align = 'right', style=\"margin:10px 35px\"></div>\n\n## 1. Fashion MNIST data set\nYou might already have heard of the original <a href=\"http://yann.lecun.com/exdb/mnist/\" target=\"_blank\" rel=\"noopener no referrer\">MNIST data set</a> which contains many handwritten digits. The Fashion-MNIST data set, which you will use in this notebook, is a replacement of the original data set of handwritten digits, which has been overused and is no longer representative for benchmarking machine learning algorithms. The Fashion MNIST data set contains images of Zalando articles. It comprises a training set of 60,000 images and a test set of 10,000 images. Each example in the training and test sets is a 28x28 grayscale image, associated with a label from 10 classes. The first column consists of the class labels (as you can see in the following section) and represents the article of clothing. The remaining columns contain the pixel-values of the associated image. You can read more about the data set <a href=\"https://github.com/zalandoresearch/fashion-mnist\" target=\"_blank\" rel=\"noopener no referrer\">here</a>.\n\n### Labels\n\nEach training and test example is assigned to one of the following labels:\n\n| **Label** | **Description** |\n|:----------|:----------------|\n|0 \t        |T-shirt/top      |\n|1 \t        |Trouser          |\n|2          |Pullover         |\n|3 \t        |Dress            |\n|4 \t        |Coat             |\n|5 \t        |Sandal           |\n|6 \t        |Shirt            |\n|7 \t        |Sneaker          |\n|8          |Bag              |\n|9          |Ankle boot       |\n", 
            "cell_type": "markdown", 
            "metadata": {}
        }, 
        {
            "source": "<a id=\"importdata\"></a>\n\n## 2. Import the data sets\nTo get the Fashion-MNIST training and test data sets:\n\n- Go to [this link](https://www.kaggle.com/zalando-research/fashionmnist) and then download the following data sets in CSV format:\n\n    - `fashion-mnist_train.csv`\n    - `fashion-mnist_test.csv`\n    \n- Save the CSV files to your local file system.\n\n- Load the data files to use in the notebook:\n\n   - On the notebook [action bar](https://dataplatform.cloud.ibm.com/docs/content/analyze-data/parts-of-a-notebook.html?audience=wdp&context=wdp#notebook-action-bar) at the top right corner, click the data icon.\n   - In the data panel that pops up, drag and drop or click **browse** to load the two NMIST data sets in your local file system.\n\nThe data files are listed on the Files tab and are stored in object storage.", 
            "cell_type": "markdown", 
            "metadata": {}
        }, 
        {
            "source": "### Insert code to access the training data set\nTo access the training data in the `fashion-mnist_train.csv` file in your notebook, select the following empty cell, in the right hand side data panel click **Insert to code** below the train CSV file, and then **Insert pandas DataFrame**. After the code is loaded, run the cell to read the CSV file.\n\n**Note**: The name of the returned dataframe will be something like df_data_1. Rename it to **train_df**. The variable **train_df** is used through out the remaining notebook to represent the training data set.", 
            "cell_type": "markdown", 
            "metadata": {}
        }, 
        {
            "execution_count": 1, 
            "cell_type": "code", 
            "metadata": {}, 
            "outputs": [
                {
                    "execution_count": 1, 
                    "metadata": {}, 
                    "data": {
                        "text/html": "<div>\n<style scoped>\n    .dataframe tbody tr th:only-of-type {\n        vertical-align: middle;\n    }\n\n    .dataframe tbody tr th {\n        vertical-align: top;\n    }\n\n    .dataframe thead th {\n        text-align: right;\n    }\n</style>\n<table border=\"1\" class=\"dataframe\">\n  <thead>\n    <tr style=\"text-align: right;\">\n      <th></th>\n      <th>label</th>\n      <th>pixel1</th>\n      <th>pixel2</th>\n      <th>pixel3</th>\n      <th>pixel4</th>\n      <th>pixel5</th>\n      <th>pixel6</th>\n      <th>pixel7</th>\n      <th>pixel8</th>\n      <th>pixel9</th>\n      <th>...</th>\n      <th>pixel775</th>\n      <th>pixel776</th>\n      <th>pixel777</th>\n      <th>pixel778</th>\n      <th>pixel779</th>\n      <th>pixel780</th>\n      <th>pixel781</th>\n      <th>pixel782</th>\n      <th>pixel783</th>\n      <th>pixel784</th>\n    </tr>\n  </thead>\n  <tbody>\n    <tr>\n      <th>0</th>\n      <td>2</td>\n      <td>0</td>\n      <td>0</td>\n      <td>0</td>\n      <td>0</td>\n      <td>0</td>\n      <td>0</td>\n      <td>0</td>\n      <td>0</td>\n      <td>0</td>\n      <td>...</td>\n      <td>0</td>\n      <td>0</td>\n      <td>0</td>\n      <td>0</td>\n      <td>0</td>\n      <td>0</td>\n      <td>0</td>\n      <td>0</td>\n      <td>0</td>\n      <td>0</td>\n    </tr>\n    <tr>\n      <th>1</th>\n      <td>9</td>\n      <td>0</td>\n      <td>0</td>\n      <td>0</td>\n      <td>0</td>\n      <td>0</td>\n      <td>0</td>\n      <td>0</td>\n      <td>0</td>\n      <td>0</td>\n      <td>...</td>\n      <td>0</td>\n      <td>0</td>\n      <td>0</td>\n      <td>0</td>\n      <td>0</td>\n      <td>0</td>\n      <td>0</td>\n      <td>0</td>\n      <td>0</td>\n      <td>0</td>\n    </tr>\n    <tr>\n      <th>2</th>\n      <td>6</td>\n      <td>0</td>\n      <td>0</td>\n      <td>0</td>\n      <td>0</td>\n      <td>0</td>\n      <td>0</td>\n      <td>0</td>\n      <td>5</td>\n      <td>0</td>\n      <td>...</td>\n      <td>0</td>\n      <td>0</td>\n      <td>0</td>\n      <td>30</td>\n      <td>43</td>\n      <td>0</td>\n      <td>0</td>\n      <td>0</td>\n      <td>0</td>\n      <td>0</td>\n    </tr>\n    <tr>\n      <th>3</th>\n      <td>0</td>\n      <td>0</td>\n      <td>0</td>\n      <td>0</td>\n      <td>1</td>\n      <td>2</td>\n      <td>0</td>\n      <td>0</td>\n      <td>0</td>\n      <td>0</td>\n      <td>...</td>\n      <td>3</td>\n      <td>0</td>\n      <td>0</td>\n      <td>0</td>\n      <td>0</td>\n      <td>1</td>\n      <td>0</td>\n      <td>0</td>\n      <td>0</td>\n      <td>0</td>\n    </tr>\n    <tr>\n      <th>4</th>\n      <td>3</td>\n      <td>0</td>\n      <td>0</td>\n      <td>0</td>\n      <td>0</td>\n      <td>0</td>\n      <td>0</td>\n      <td>0</td>\n      <td>0</td>\n      <td>0</td>\n      <td>...</td>\n      <td>0</td>\n      <td>0</td>\n      <td>0</td>\n      <td>0</td>\n      <td>0</td>\n      <td>0</td>\n      <td>0</td>\n      <td>0</td>\n      <td>0</td>\n      <td>0</td>\n    </tr>\n  </tbody>\n</table>\n<p>5 rows \u00d7 785 columns</p>\n</div>", 
                        "text/plain": "   label  pixel1  pixel2  pixel3  pixel4  pixel5  pixel6  pixel7  pixel8  \\\n0      2       0       0       0       0       0       0       0       0   \n1      9       0       0       0       0       0       0       0       0   \n2      6       0       0       0       0       0       0       0       5   \n3      0       0       0       0       1       2       0       0       0   \n4      3       0       0       0       0       0       0       0       0   \n\n   pixel9    ...     pixel775  pixel776  pixel777  pixel778  pixel779  \\\n0       0    ...            0         0         0         0         0   \n1       0    ...            0         0         0         0         0   \n2       0    ...            0         0         0        30        43   \n3       0    ...            3         0         0         0         0   \n4       0    ...            0         0         0         0         0   \n\n   pixel780  pixel781  pixel782  pixel783  pixel784  \n0         0         0         0         0         0  \n1         0         0         0         0         0  \n2         0         0         0         0         0  \n3         1         0         0         0         0  \n4         0         0         0         0         0  \n\n[5 rows x 785 columns]"
                    }, 
                    "output_type": "execute_result"
                }
            ], 
            "source": "# The code was removed by Watson Studio for sharing."
        }, 
        {
            "source": "### Insert code to access the test data set\n\nTo access the test data in the `fashion-mnist_test.csv` file in your notebook, select the following empty cell, in the right hand side data panel click **Insert to code** below the test CSV file, and then **Insert pandas DataFrame**. After the code is loaded, run the cell to read the CSV file.\n\n**Note**: The name of the returned dataframe will be something like df_data_1. Rename it to **test_df**. The variable **test_df** is used through out the remaining notebook to represent the test data set.", 
            "cell_type": "markdown", 
            "metadata": {}
        }, 
        {
            "execution_count": 2, 
            "cell_type": "code", 
            "metadata": {}, 
            "outputs": [
                {
                    "execution_count": 2, 
                    "metadata": {}, 
                    "data": {
                        "text/html": "<div>\n<style scoped>\n    .dataframe tbody tr th:only-of-type {\n        vertical-align: middle;\n    }\n\n    .dataframe tbody tr th {\n        vertical-align: top;\n    }\n\n    .dataframe thead th {\n        text-align: right;\n    }\n</style>\n<table border=\"1\" class=\"dataframe\">\n  <thead>\n    <tr style=\"text-align: right;\">\n      <th></th>\n      <th>label</th>\n      <th>pixel1</th>\n      <th>pixel2</th>\n      <th>pixel3</th>\n      <th>pixel4</th>\n      <th>pixel5</th>\n      <th>pixel6</th>\n      <th>pixel7</th>\n      <th>pixel8</th>\n      <th>pixel9</th>\n      <th>...</th>\n      <th>pixel775</th>\n      <th>pixel776</th>\n      <th>pixel777</th>\n      <th>pixel778</th>\n      <th>pixel779</th>\n      <th>pixel780</th>\n      <th>pixel781</th>\n      <th>pixel782</th>\n      <th>pixel783</th>\n      <th>pixel784</th>\n    </tr>\n  </thead>\n  <tbody>\n    <tr>\n      <th>0</th>\n      <td>2</td>\n      <td>0</td>\n      <td>0</td>\n      <td>0</td>\n      <td>0</td>\n      <td>0</td>\n      <td>0</td>\n      <td>0</td>\n      <td>0</td>\n      <td>0</td>\n      <td>...</td>\n      <td>0</td>\n      <td>0</td>\n      <td>0</td>\n      <td>0</td>\n      <td>0</td>\n      <td>0</td>\n      <td>0</td>\n      <td>0</td>\n      <td>0</td>\n      <td>0</td>\n    </tr>\n    <tr>\n      <th>1</th>\n      <td>9</td>\n      <td>0</td>\n      <td>0</td>\n      <td>0</td>\n      <td>0</td>\n      <td>0</td>\n      <td>0</td>\n      <td>0</td>\n      <td>0</td>\n      <td>0</td>\n      <td>...</td>\n      <td>0</td>\n      <td>0</td>\n      <td>0</td>\n      <td>0</td>\n      <td>0</td>\n      <td>0</td>\n      <td>0</td>\n      <td>0</td>\n      <td>0</td>\n      <td>0</td>\n    </tr>\n    <tr>\n      <th>2</th>\n      <td>6</td>\n      <td>0</td>\n      <td>0</td>\n      <td>0</td>\n      <td>0</td>\n      <td>0</td>\n      <td>0</td>\n      <td>0</td>\n      <td>5</td>\n      <td>0</td>\n      <td>...</td>\n      <td>0</td>\n      <td>0</td>\n      <td>0</td>\n      <td>30</td>\n      <td>43</td>\n      <td>0</td>\n      <td>0</td>\n      <td>0</td>\n      <td>0</td>\n      <td>0</td>\n    </tr>\n    <tr>\n      <th>3</th>\n      <td>0</td>\n      <td>0</td>\n      <td>0</td>\n      <td>0</td>\n      <td>1</td>\n      <td>2</td>\n      <td>0</td>\n      <td>0</td>\n      <td>0</td>\n      <td>0</td>\n      <td>...</td>\n      <td>3</td>\n      <td>0</td>\n      <td>0</td>\n      <td>0</td>\n      <td>0</td>\n      <td>1</td>\n      <td>0</td>\n      <td>0</td>\n      <td>0</td>\n      <td>0</td>\n    </tr>\n    <tr>\n      <th>4</th>\n      <td>3</td>\n      <td>0</td>\n      <td>0</td>\n      <td>0</td>\n      <td>0</td>\n      <td>0</td>\n      <td>0</td>\n      <td>0</td>\n      <td>0</td>\n      <td>0</td>\n      <td>...</td>\n      <td>0</td>\n      <td>0</td>\n      <td>0</td>\n      <td>0</td>\n      <td>0</td>\n      <td>0</td>\n      <td>0</td>\n      <td>0</td>\n      <td>0</td>\n      <td>0</td>\n    </tr>\n  </tbody>\n</table>\n<p>5 rows \u00d7 785 columns</p>\n</div>", 
                        "text/plain": "   label  pixel1  pixel2  pixel3  pixel4  pixel5  pixel6  pixel7  pixel8  \\\n0      2       0       0       0       0       0       0       0       0   \n1      9       0       0       0       0       0       0       0       0   \n2      6       0       0       0       0       0       0       0       5   \n3      0       0       0       0       1       2       0       0       0   \n4      3       0       0       0       0       0       0       0       0   \n\n   pixel9    ...     pixel775  pixel776  pixel777  pixel778  pixel779  \\\n0       0    ...            0         0         0         0         0   \n1       0    ...            0         0         0         0         0   \n2       0    ...            0         0         0        30        43   \n3       0    ...            3         0         0         0         0   \n4       0    ...            0         0         0         0         0   \n\n   pixel780  pixel781  pixel782  pixel783  pixel784  \n0         0         0         0         0         0  \n1         0         0         0         0         0  \n2         0         0         0         0         0  \n3         1         0         0         0         0  \n4         0         0         0         0         0  \n\n[5 rows x 785 columns]"
                    }, 
                    "output_type": "execute_result"
                }
            ], 
            "source": "\nbody = client_73ae0289eca54f3b800daa1c63d6fc43.get_object(Bucket='gpunotebookdemo-donotdelete-pr-skkqjvpa902st8',Key='fashion-mnist_train.csv')['Body']\n# add missing __iter__ method, so pandas accepts body as file-like object\nif not hasattr(body, \"__iter__\"): body.__iter__ = types.MethodType( __iter__, body )\n\ntest_df = pd.read_csv(body)\ntest_df.head()\n\n"
        }, 
        {
            "source": "<a id=\"preparedata\"></a>\n## 3. Prepare the data sets\nLet's begin the data preparation by normalizing the data dimensions so that they are of approximately the same scale.  Before you can start with this, you need to import the libraries you will be using and then extract the data from the previously loaded data frames into numpy arrays.", 
            "cell_type": "markdown", 
            "metadata": {}
        }, 
        {
            "execution_count": 3, 
            "cell_type": "code", 
            "metadata": {}, 
            "outputs": [], 
            "source": "import numpy as np\nfrom sklearn.model_selection import train_test_split\n\ntrain_data = np.array(train_df, dtype='float32')\ntest_data = np.array(test_df, dtype='float32')\n\nx_train = train_data[:, 1:] / 255\ny_train = train_data[:, 0]\n\nx_test = test_data[:, 1:] / 255\ny_test = test_data[:, 0]"
        }, 
        {
            "source": "### Split into training, validation and test data sets\nSplit the training data set comprising 60,000 images of different articles of clothing into a training set and a validation set. The training set should contain 80% of the training data set and the validation set 20%.", 
            "cell_type": "markdown", 
            "metadata": {}
        }, 
        {
            "execution_count": 4, 
            "cell_type": "code", 
            "metadata": {}, 
            "outputs": [
                {
                    "output_type": "stream", 
                    "name": "stdout", 
                    "text": "Shape of the training data set (Features): (48000, 784)\nShape of the training data set (Labels): (48000,)\nShape of the validation data set (Features): (12000, 784)\nShape of the validation data set (Labels): (12000,)\n"
                }
            ], 
            "source": "x_train, x_validate, y_train, y_validate = train_test_split(\n    x_train, y_train, test_size = 0.2, random_state=44)\nprint(\"Shape of the training data set (Features): {}\".format(x_train.shape))\nprint(\"Shape of the training data set (Labels): {}\".format(y_train.shape))\nprint(\"Shape of the validation data set (Features): {}\".format(x_validate.shape))\nprint(\"Shape of the validation data set (Labels): {}\".format(y_validate.shape))"
        }, 
        {
            "source": "### Visualize a few articles\nUse the imshow() function in the matplotlib library to visualize the greyscale images.", 
            "cell_type": "markdown", 
            "metadata": {}
        }, 
        {
            "execution_count": 5, 
            "cell_type": "code", 
            "metadata": {}, 
            "outputs": [
                {
                    "execution_count": 5, 
                    "metadata": {}, 
                    "data": {
                        "text/plain": "<function matplotlib.pyplot.show(*args, **kw)>"
                    }, 
                    "output_type": "execute_result"
                }
            ], 
            "source": "import matplotlib.pyplot as plt\nimage = x_train[10, :].reshape((28,28))\nplt.imshow(image)\nplt.show"
        }, 
        {
            "execution_count": 7, 
            "cell_type": "code", 
            "metadata": {}, 
            "outputs": [
                {
                    "execution_count": 7, 
                    "metadata": {}, 
                    "data": {
                        "text/plain": "<function matplotlib.pyplot.show(*args, **kw)>"
                    }, 
                    "output_type": "execute_result"
                }, 
                {
                    "output_type": "display_data", 
                    "data": {
                        "image/png": "[encoded data removed]", 
                        "text/plain": "<Figure size 432x288 with 1 Axes>"
                    }, 
                    "metadata": {}
                }
            ], 
            "source": "image = x_train[40000, :].reshape((28,28))\nplt.imshow(image)\nplt.show"
        }, 
        {
            "source": "<a id=\"neuralNetwork\"></a>\n\n## 4. Define the neural network\n\nNow you will learn how to create a Convolution Neural Network that recognizes Zalando articles in images. Convolutional Neural Networks, or commonly known as CNNs, are class of deep neural networks that is primarily used for visual recognition tasks. In this notebook, you will create a simple CNN based classification model. You will use the Keras framework to build the model. <a href=\"https://keras.io/\" >Keras</a> is a high-level neural networks API, written in Python.\n\nImport the Keras library and then reshape the data sets.", 
            "cell_type": "markdown", 
            "metadata": {}
        }, 
        {
            "execution_count": 6, 
            "cell_type": "code", 
            "metadata": {}, 
            "outputs": [
                {
                    "output_type": "stream", 
                    "name": "stderr", 
                    "text": "/opt/conda/lib/python3.6/site-packages/h5py/__init__.py:36: FutureWarning: Conversion of the second argument of issubdtype from `float` to `np.floating` is deprecated. In future, it will be treated as `np.float64 == np.dtype(float).type`.\n  from ._conv import register_converters as _register_converters\nUsing TensorFlow backend.\n"
                }
            ], 
            "source": "import keras\nfrom keras.models import Sequential\nfrom keras.layers import Conv2D, MaxPool2D, Dense, Flatten, Dropout\nfrom keras.optimizers import Adam\nfrom keras.callbacks import Callback\n\nim_rows = 28\nim_cols = 28\nim_shape = (im_rows, im_cols, 1)\nx_train = x_train.reshape(x_train.shape[0], *im_shape)\nx_test = x_test.reshape(x_test.shape[0], *im_shape)\nx_validate = x_validate.reshape(x_validate.shape[0], *im_shape)"
        }, 
        {
            "source": "### Define the various layers in the network\nThe CNN model you create will have a convolution layer followed by a pooling layer and then a dropout layer. The output of the dropout layer is flattened into a fully connected layer. The last layer is a dense layer with Softmax activation that classifies the 10 categories of the clothing data images in the Fashion-MNIST data set.", 
            "cell_type": "markdown", 
            "metadata": {}
        }, 
        {
            "execution_count": 7, 
            "cell_type": "code", 
            "metadata": {}, 
            "outputs": [], 
            "source": "cnn_model = Sequential([\n    Conv2D(filters=32, kernel_size=(3,3), activation='relu', input_shape=im_shape),\n    MaxPool2D(pool_size=(2,2)),\n    Dropout(0.2),\n    Flatten(),\n    Dense(32, activation='relu'),\n    Dense(10, activation='softmax')\n])"
        }, 
        {
            "source": "Before you can start training the model, you need to compile it. For this you will use the model.compile() function. Specify a loss function, an optimizer and the metrics.", 
            "cell_type": "markdown", 
            "metadata": {}
        }, 
        {
            "execution_count": 8, 
            "cell_type": "code", 
            "metadata": {}, 
            "outputs": [], 
            "source": "cnn_model.compile(\n    loss='sparse_categorical_crossentropy',\n    optimizer=Adam(lr=0.001),\n    metrics=['accuracy']\n)"
        }, 
        {
            "source": "<a id=\"train\" ></a>\n## 5. Train the neural network\nThe following code cell starts the model training process, also referred to as model fitting. You will train the model in batches of 200 images in 20 epochs.", 
            "cell_type": "markdown", 
            "metadata": {}
        }, 
        {
            "execution_count": 9, 
            "cell_type": "code", 
            "metadata": {
                "scrolled": true
            }, 
            "outputs": [
                {
                    "output_type": "stream", 
                    "name": "stdout", 
                    "text": "Train on 48000 samples, validate on 12000 samples\nEpoch 1/20\n48000/48000 [==============================] - 9s 184us/step - loss: 0.6196 - acc: 0.7866 - val_loss: 0.4391 - val_acc: 0.8449\nEpoch 2/20\n48000/48000 [==============================] - 1s 18us/step - loss: 0.4103 - acc: 0.8563 - val_loss: 0.3770 - val_acc: 0.8653\nEpoch 3/20\n48000/48000 [==============================] - 1s 19us/step - loss: 0.3632 - acc: 0.8731 - val_loss: 0.3442 - val_acc: 0.8761\nEpoch 4/20\n48000/48000 [==============================] - 1s 18us/step - loss: 0.3315 - acc: 0.8850 - val_loss: 0.3145 - val_acc: 0.8906\nEpoch 5/20\n48000/48000 [==============================] - 1s 18us/step - loss: 0.3092 - acc: 0.8925 - val_loss: 0.3025 - val_acc: 0.8895\nEpoch 6/20\n48000/48000 [==============================] - 1s 18us/step - loss: 0.2948 - acc: 0.8969 - val_loss: 0.3152 - val_acc: 0.8812\nEpoch 7/20\n48000/48000 [==============================] - 1s 18us/step - loss: 0.2801 - acc: 0.9014 - val_loss: 0.2912 - val_acc: 0.8943\nEpoch 8/20\n48000/48000 [==============================] - 1s 18us/step - loss: 0.2689 - acc: 0.9049 - val_loss: 0.2933 - val_acc: 0.8941\nEpoch 9/20\n48000/48000 [==============================] - 1s 19us/step - loss: 0.2587 - acc: 0.9085 - val_loss: 0.2792 - val_acc: 0.8992\nEpoch 10/20\n48000/48000 [==============================] - 1s 19us/step - loss: 0.2499 - acc: 0.9102 - val_loss: 0.2666 - val_acc: 0.9060\nEpoch 11/20\n48000/48000 [==============================] - 1s 19us/step - loss: 0.2390 - acc: 0.9151 - val_loss: 0.2650 - val_acc: 0.9050\nEpoch 12/20\n48000/48000 [==============================] - 1s 19us/step - loss: 0.2325 - acc: 0.9177 - val_loss: 0.2560 - val_acc: 0.9089\nEpoch 13/20\n48000/48000 [==============================] - 1s 18us/step - loss: 0.2259 - acc: 0.9194 - val_loss: 0.2569 - val_acc: 0.9054\nEpoch 14/20\n48000/48000 [==============================] - 1s 18us/step - loss: 0.2197 - acc: 0.9222 - val_loss: 0.2726 - val_acc: 0.9023\nEpoch 15/20\n48000/48000 [==============================] - 1s 18us/step - loss: 0.2126 - acc: 0.9243 - val_loss: 0.2646 - val_acc: 0.9038\nEpoch 16/20\n48000/48000 [==============================] - 1s 18us/step - loss: 0.2076 - acc: 0.9261 - val_loss: 0.2672 - val_acc: 0.9038\nEpoch 17/20\n48000/48000 [==============================] - 1s 19us/step - loss: 0.2015 - acc: 0.9280 - val_loss: 0.2567 - val_acc: 0.9077\nEpoch 18/20\n48000/48000 [==============================] - 1s 19us/step - loss: 0.1962 - acc: 0.9292 - val_loss: 0.2599 - val_acc: 0.9103\nEpoch 19/20\n48000/48000 [==============================] - 1s 19us/step - loss: 0.1900 - acc: 0.9318 - val_loss: 0.2462 - val_acc: 0.9119\nEpoch 20/20\n48000/48000 [==============================] - 1s 18us/step - loss: 0.1868 - acc: 0.9325 - val_loss: 0.2551 - val_acc: 0.9093\n"
                }, 
                {
                    "execution_count": 9, 
                    "metadata": {}, 
                    "data": {
                        "text/plain": "<keras.callbacks.History at 0x2b3d8c076ba8>"
                    }, 
                    "output_type": "execute_result"
                }
            ], 
            "source": "cnn_model.fit(\n    x_train, y_train, batch_size=200,\n    epochs=20, verbose=1,\n    validation_data=(x_validate, y_validate)\n)"
        }, 
        {
            "source": "### Test accuracy\nTest the accuracy of the model. You will see that the model has an accuracy of over 91%.", 
            "cell_type": "markdown", 
            "metadata": {}
        }, 
        {
            "execution_count": 10, 
            "cell_type": "code", 
            "metadata": {}, 
            "outputs": [
                {
                    "output_type": "stream", 
                    "name": "stdout", 
                    "text": "\n Test accuracy: 0.93595\n"
                }
            ], 
            "source": "score = cnn_model.evaluate(x_test, y_test, verbose=0)\nprint('\\n', 'Test accuracy:', score[1])"
        }, 
        {
            "source": "### Visualize the predictions\nYou can see how well your model is performing by taking a few images from the test data set and testing how well they are recognized by the model. For this test, you will use image number 100 and 200 from the test data set. You will also visualize the images to see which articles are represented.", 
            "cell_type": "markdown", 
            "metadata": {}
        }, 
        {
            "execution_count": 11, 
            "cell_type": "code", 
            "metadata": {}, 
            "outputs": [
                {
                    "output_type": "stream", 
                    "name": "stdout", 
                    "text": "\n Model predicts the label: [8]\n"
                }, 
                {
                    "output_type": "display_data", 
                    "data": {
                        "image/png": "[encoded data removed]", 
                        "text/plain": "<Figure size 432x288 with 1 Axes>"
                    }, 
                    "metadata": {}
                }
            ], 
            "source": "test_img = x_test[100,:].reshape((28,28))\nplt.imshow(test_img)\ntest_img = test_img.reshape(1, *im_shape)\nprint('\\n', 'Model predicts the label:', cnn_model.predict_classes(test_img))"
        }, 
        {
            "execution_count": 12, 
            "cell_type": "code", 
            "metadata": {}, 
            "outputs": [
                {
                    "output_type": "stream", 
                    "name": "stdout", 
                    "text": "\n Model predicts the label: [3]\n"
                }, 
                {
                    "output_type": "display_data", 
                    "data": {
                        "image/png": "[encoded data removed]", 
                        "text/plain": "<Figure size 432x288 with 1 Axes>"
                    }, 
                    "metadata": {}
                }
            ], 
            "source": "test_img = x_test[200,:].reshape((28,28))\nplt.imshow(test_img)\ntest_img = test_img.reshape(1, *im_shape)\nprint('\\n', 'Model predicts the label:', cnn_model.predict_classes(test_img))"
        }, 
        {
            "source": "If you check the table with labels, and compare that with the visualizations you see, it looks like the model is predicting clothing articles very well. You have successfully built a CNN with over 90% accuracy.", 
            "cell_type": "markdown", 
            "metadata": {}
        }, 
        {
            "source": "<a id=\"deploy\" ></a>\n# 6. Deploy the model\n\nNow you can deploy this model in the Cloud and get a scoring endpoint. To deploy the model created in this notebook, you need an instance of IBM Watson Machine Learning service. You can see if a Watson Machine Learning service instance is already associated with your project by clicking the **Services** menu in Watson Studio and selecting **Watson Services**. If no service exists, create a [Watson Machine Learning service instance](https://console.ng.bluemix.net/catalog/services/ibm-watson-machine-learning/). \n\n\nTo get the service credentials:\n1. From the **Services** menu in Watson Studio, open **Watson Services** in a new browser tab. (This opens the Watson Services page in Watson Studio.)\n2. In the Machine Learning section, click the service instance for which you want to retrieve credentials. (This opens the service details page in IBM Cloud for the Watson Machine Learning service instance.)\n3. Click **Service credentials**. If there are no service credentials yet, click the **New credential**.\n4. Under the **ACTION** menu, click **View credentials**.\n5. Copy the credentials into the following cell.", 
            "cell_type": "markdown", 
            "metadata": {}
        }, 
        {
            "execution_count": 13, 
            "cell_type": "code", 
            "metadata": {}, 
            "outputs": [], 
            "source": "wml_credentials = {\n  \"apikey\": \"oTW1O9BHTHDTMAfp6pzpIIz0Qt3dMefiwIpctW8425YA\",\n  \"iam_apikey_description\": \"Auto generated apikey during resource-key operation for Instance - crn:v1:bluemix:public:pm-20:us-south:a/5efafa56ac2ecb57a93a28ca9c4ef9b6:bcac73dc-04b9-476b-a46b-cb0de69e673e::\",\n  \"iam_apikey_name\": \"auto-generated-apikey-799c74ee-248e-47b9-b947-ee787596a543\",\n  \"iam_role_crn\": \"crn:v1:bluemix:public:iam::::serviceRole:Writer\",\n  \"iam_serviceid_crn\": \"crn:v1:bluemix:public:iam-identity::a/5efafa56ac2ecb57a93a28ca9c4ef9b6::serviceid:ServiceId-e4ddbc78-24d5-458d-8df3-f2fa458ebdb5\",\n  \"instance_id\": \"bcac73dc-04b9-476b-a46b-cb0de69e673e\",\n  \"password\": \"d0a13022-5b01-45e9-8205-8709fc6d415c\",\n  \"url\": \"https://us-south.ml.cloud.ibm.com\",\n  \"username\": \"799c74ee-248e-47b9-b947-ee787596a543\"\n}"
        }, 
        {
            "source": "Import the watson-machine-learning-client and authenticate to the service instance.", 
            "cell_type": "markdown", 
            "metadata": {}
        }, 
        {
            "execution_count": 14, 
            "cell_type": "code", 
            "metadata": {}, 
            "outputs": [], 
            "source": "from watson_machine_learning_client import WatsonMachineLearningAPIClient\nclient = WatsonMachineLearningAPIClient(wml_credentials)"
        }, 
        {
            "source": "### Store the trained model in the WML repository\nYou have  connected to the Watson Machine Learning repository using the Python package and your credentials. Publishing the model will save the model to your repository.", 
            "cell_type": "markdown", 
            "metadata": {}
        }, 
        {
            "execution_count": 15, 
            "cell_type": "code", 
            "metadata": {}, 
            "outputs": [
                {
                    "output_type": "stream", 
                    "name": "stdout", 
                    "text": "keras_fashion_mnist.h5\r\n"
                }
            ], 
            "source": "cnn_model.save(\"keras_fashion_mnist.h5\")\n!tar -cvf keras_fashion_mnist.tar keras_fashion_mnist.h5\n!gzip -f keras_fashion_mnist.tar\nmodel_tar_gz = \"keras_fashion_mnist.tar.gz\"\n\nmetadata = {\n        client.repository.ModelMetaNames.AUTHOR_NAME: \"Sumit Goyal\",\n        client.repository.ModelMetaNames.NAME: 'Fashion MNIST with Keras',\n        client.repository.ModelMetaNames.FRAMEWORK_NAME: 'tensorflow',\n        client.repository.ModelMetaNames.FRAMEWORK_VERSION: '1.12',\n        client.repository.ModelMetaNames.RUNTIME_NAME: 'python',\n        client.repository.ModelMetaNames.RUNTIME_VERSION: '3.5',\n        client.repository.ModelMetaNames.FRAMEWORK_LIBRARIES: [\n         {\"name\": \"keras\", \"version\": \"2.2.4\"}\n    ]\n}\nstored_model_details = client.repository.store_model(model_tar_gz, meta_props=metadata, training_data=None)"
        }, 
        {
            "source": "### Create the online deployment\nNow you will deploy the stored model as a web service.", 
            "cell_type": "markdown", 
            "metadata": {}
        }, 
        {
            "execution_count": 16, 
            "cell_type": "code", 
            "metadata": {
                "scrolled": true
            }, 
            "outputs": [
                {
                    "output_type": "stream", 
                    "name": "stdout", 
                    "text": "\n\n#######################################################################################\n\nSynchronous deployment creation for uid: '01ec6725-4b51-4792-a04e-26e9f8e24802' started\n\n#######################################################################################\n\n\nINITIALIZING\nDEPLOY_IN_PROGRESS\nDEPLOY_SUCCESS\n\n\n------------------------------------------------------------------------------------------------\nSuccessfully finished deployment creation, deployment_uid='616017e9-2767-43a5-81dc-ed0b79ad24e3'\n------------------------------------------------------------------------------------------------\n\n\n"
                }
            ], 
            "source": "created_deployment = client.deployments.create(stored_model_details['metadata']['guid'], \"Fashion MNIST with Keras\")"
        }, 
        {
            "source": "\n\nNow you can define and print an online scoring endpoint.\n", 
            "cell_type": "markdown", 
            "metadata": {}
        }, 
        {
            "execution_count": 17, 
            "cell_type": "code", 
            "metadata": {}, 
            "outputs": [
                {
                    "output_type": "stream", 
                    "name": "stdout", 
                    "text": "https://us-south.ml.cloud.ibm.com/v3/wml_instances/bcac73dc-04b9-476b-a46b-cb0de69e673e/deployments/616017e9-2767-43a5-81dc-ed0b79ad24e3/online\n"
                }
            ], 
            "source": "scoring_endpoint = client.deployments.get_scoring_url(created_deployment)\nprint(scoring_endpoint)"
        }, 
        {
            "source": "### Score data\nUse the following method to run a test scoring request against the deployed model.", 
            "cell_type": "markdown", 
            "metadata": {}
        }, 
        {
            "execution_count": 18, 
            "cell_type": "code", 
            "metadata": {}, 
            "outputs": [], 
            "source": "score_data = x_test[100].tolist()\nscoring_payload = {'values': [score_data]}"
        }, 
        {
            "source": "Use the client.deployments.score() method to run the scoring.", 
            "cell_type": "markdown", 
            "metadata": {}
        }, 
        {
            "execution_count": 19, 
            "cell_type": "code", 
            "metadata": {}, 
            "outputs": [
                {
                    "output_type": "stream", 
                    "name": "stdout", 
                    "text": "{\n  \"fields\": [\n    \"prediction\",\n    \"prediction_classes\",\n    \"probability\"\n  ],\n  \"values\": [\n    [\n      [\n        1.595842513779644e-05,\n        5.818360932607902e-06,\n        2.4869302706065355e-07,\n        3.647633306513853e-08,\n        1.2989552260478376e-06,\n        3.2485646117574873e-11,\n        0.00019787767087109387,\n        5.266992952890348e-10,\n        0.9997788071632385,\n        2.027643164481674e-09\n      ],\n      8,\n      [\n        1.595842513779644e-05,\n        5.818360932607902e-06,\n        2.4869302706065355e-07,\n        3.647633306513853e-08,\n        1.2989552260478376e-06,\n        3.2485646117574873e-11,\n        0.00019787767087109387,\n        5.266992952890348e-10,\n        0.9997788071632385,\n        2.027643164481674e-09\n      ]\n    ]\n  ]\n}\n"
                }
            ], 
            "source": "import json\npredictions = client.deployments.score(scoring_endpoint, scoring_payload)\nprint(json.dumps(predictions, indent=2))"
        }, 
        {
            "source": "<a id=\"summary\"></a>\n## 7. Summary\n\nYou learned how to prepare the Fashion-MNIST data set and how to build and train a Convolutional Neural Network by using the Keras and TensorFlow libraries. By running your notebook in a GPU environment, you could do all the model training and testing directly in your notebook; you didn't have to switch to the IBM Machine Learning service to train your model. In the last section of the notebook, you learned how to save and deploy the model in the Watson Machine Learning service.", 
            "cell_type": "markdown", 
            "metadata": {}
        }, 
        {
            "source": "### Author\n\n**Sumit Goyal** is a software engineer in the Watson Studio development team at IBM in Germany. He holds a degree in Automation and Industrial IT and is passionate about data analysis, machine learning and the ecosystem for data science.", 
            "cell_type": "markdown", 
            "metadata": {}
        }, 
        {
            "source": "### License - Fashion-MNIST\n\nThe Fashion-MNIST data set is licensed under the MIT License (MIT) Copyright \u00a9 [2017] Zalando SE, https://tech.zalando.com \n\nTHE SOFTWARE IS PROVIDED \u201cAS IS\u201d, WITHOUT WARRANTY OF ANY KIND, EXPRESS OR IMPLIED, INCLUDING BUT NOT LIMITED TO THE WARRANTIES OF MERCHANTABILITY, FITNESS FOR A PARTICULAR PURPOSE AND NONINFRINGEMENT. IN NO EVENT SHALL THE AUTHORS OR COPYRIGHT HOLDERS BE LIABLE FOR ANY CLAIM, DAMAGES OR OTHER LIABILITY, WHETHER IN AN ACTION OF CONTRACT, TORT OR OTHERWISE, ARISING FROM, OUT OF OR IN CONNECTION WITH THE SOFTWARE OR THE USE OR OTHER DEALINGS IN THE SOFTWARE. ", 
            "cell_type": "markdown", 
            "metadata": {}
        }, 
        {
            "source": "<hr>\nCopyright \u00a9 2018. This notebook and its source code are released under the terms of the MIT License.", 
            "cell_type": "markdown", 
            "metadata": {}
        }, 
        {
            "source": "<div style=\"background:#F5F7FA; height:110px; padding: 2em; font-size:14px;\">\n<span style=\"font-size:18px;color:#152935;\">Love this notebook? </span>\n<span style=\"font-size:15px;color:#152935;float:right;margin-right:40px;\">Don't have an account yet?</span><br>\n<span style=\"color:#5A6872;\">Share it with your colleagues and help them discover the power of Watson Studio!</span>\n<span style=\"border: 1px solid #3d70b2;padding:8px;float:right;margin-right:40px; color:#3d70b2;\"><a href=\"https://ibm.co/wsnotebooks\" target=\"_blank\" style=\"color: #3d70b2;text-decoration: none;\">Sign Up</a></span><br>\n</div>", 
            "cell_type": "markdown", 
            "metadata": {}
        }
    ], 
    "metadata": {
        "kernelspec": {
            "display_name": "Python 3.6 with GPU, Tensorflow 1.12, and PyTorch 1.0", 
            "name": "python3", 
            "language": "python"
        }, 
        "language_info": {
            "mimetype": "text/x-python", 
            "nbconvert_exporter": "python", 
            "version": "3.6.5", 
            "name": "python", 
            "file_extension": ".py", 
            "pygments_lexer": "ipython3", 
            "codemirror_mode": {
                "version": 3, 
                "name": "ipython"
            }
        }
    }, 
    "nbformat": 4
}